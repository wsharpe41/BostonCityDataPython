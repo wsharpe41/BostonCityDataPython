{
 "cells": [
  {
   "cell_type": "code",
   "execution_count": null,
   "metadata": {},
   "outputs": [],
   "source": [
    "import json\n",
    "import urllib.request\n",
    "import urllib.parse\n",
    "import urllib.error"
   ]
  },
  {
   "cell_type": "code",
   "execution_count": null,
   "metadata": {},
   "outputs": [],
   "source": [
    "url = \"https://pollysnips.s3.amazonaws.com/bostonEmployeeSalaries.json\"\n",
    "uh = urllib.request.urlopen(url)\n",
    "data = uh.read().decode()\n",
    "print('Retrieved', len(data), 'characters')\n",
    "# print type of data\n",
    "print(type(data))\n",
    "# convert data to json\n",
    "js = json.loads(data)"
   ]
  },
  {
   "cell_type": "code",
   "execution_count": null,
   "metadata": {},
   "outputs": [],
   "source": [
    "print(type(js))\n",
    "data = js[\"data\"]\n",
    "print(data[0])"
   ]
  }
 ],
 "metadata": {
  "kernelspec": {
   "display_name": "Python 3",
   "language": "python",
   "name": "python3"
  },
  "language_info": {
   "name": "python",
   "version": "3.10.10"
  },
  "orig_nbformat": 4,
  "vscode": {
   "interpreter": {
    "hash": "767d51c1340bd893661ea55ea3124f6de3c7a262a8b4abca0554b478b1e2ff90"
   }
  }
 },
 "nbformat": 4,
 "nbformat_minor": 2
}
